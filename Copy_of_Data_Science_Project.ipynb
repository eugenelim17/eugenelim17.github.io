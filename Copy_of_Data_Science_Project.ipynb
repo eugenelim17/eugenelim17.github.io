{
  "nbformat": 4,
  "nbformat_minor": 0,
  "metadata": {
    "colab": {
      "provenance": [],
      "authorship_tag": "ABX9TyNBP2RVyfPGdOa7G1wtPA46",
      "include_colab_link": true
    },
    "kernelspec": {
      "name": "python3",
      "display_name": "Python 3"
    },
    "language_info": {
      "name": "python"
    }
  },
  "cells": [
    {
      "cell_type": "markdown",
      "metadata": {
        "id": "view-in-github",
        "colab_type": "text"
      },
      "source": [
        "<a href=\"https://colab.research.google.com/github/eugenelim17/eugenelim17.github.io/blob/main/Copy_of_Data_Science_Project.ipynb\" target=\"_parent\"><img src=\"https://colab.research.google.com/assets/colab-badge.svg\" alt=\"Open In Colab\"/></a>"
      ]
    },
    {
      "cell_type": "markdown",
      "source": [
        "**Introduction:** The team members, Eugene Lim and Tyler Simms, will be using a dataset on 2023 LinkedIn Job Post Listings over a two day period during the year to identify trends within the current US job market, specifically for remote occupations and non-remote occupations. Our working project title is \"Trends, Patterns, and Directions in the 2023 U.S. job market\". We will be working with this dataset because it provides great detail, and several datas we could use such as the type of job, pay period, salary, company IDs, and whether remote work is allowed or not.\n",
        "\n",
        "Link to dataset: https://www.kaggle.com/datasets/arshkon/linkedin-job-postings\n",
        "\n",
        "Link to GitHub repo: https://github.com/eugenelim17/eugenelim17.github.io/tree/main\n",
        "\n",
        "Link to Trello Board: https://trello.com/b/nKeaOhI6/data-science-job-market-project"
      ],
      "metadata": {
        "id": "iT_hk6Iy84Cv"
      }
    },
    {
      "cell_type": "markdown",
      "source": [
        "**Collaboration Plan:** We plan to meet once a week through Zoom in order to work on the project. Alternative ways that we will use to communicate will be via text message, and also on a Trello dashboard where we will be uploading any important updates, questions, and idea proposals that we may have. We have also created a Github repo that is shared with each other in order to organize, update and maintain our code in order with each other. We will be collaborating on the code in our notebook file through Google Colab."
      ],
      "metadata": {
        "id": "7MO8qR4D879s"
      }
    },
    {
      "cell_type": "code",
      "execution_count": 35,
      "metadata": {
        "id": "AEG3Rax5BvUH",
        "colab": {
          "base_uri": "https://localhost:8080/",
          "height": 39
        },
        "outputId": "1e2863ee-bc65-4ea3-b209-5f4e50303b6f"
      },
      "outputs": [
        {
          "output_type": "display_data",
          "data": {
            "text/plain": [
              "<IPython.core.display.HTML object>"
            ],
            "text/html": [
              "\n",
              "     <input type=\"file\" id=\"files-aff977b5-5bf2-49f5-a273-175ebcb98509\" name=\"files[]\" multiple disabled\n",
              "        style=\"border:none\" />\n",
              "     <output id=\"result-aff977b5-5bf2-49f5-a273-175ebcb98509\">\n",
              "      Upload widget is only available when the cell has been executed in the\n",
              "      current browser session. Please rerun this cell to enable.\n",
              "      </output>\n",
              "      <script>// Copyright 2017 Google LLC\n",
              "//\n",
              "// Licensed under the Apache License, Version 2.0 (the \"License\");\n",
              "// you may not use this file except in compliance with the License.\n",
              "// You may obtain a copy of the License at\n",
              "//\n",
              "//      http://www.apache.org/licenses/LICENSE-2.0\n",
              "//\n",
              "// Unless required by applicable law or agreed to in writing, software\n",
              "// distributed under the License is distributed on an \"AS IS\" BASIS,\n",
              "// WITHOUT WARRANTIES OR CONDITIONS OF ANY KIND, either express or implied.\n",
              "// See the License for the specific language governing permissions and\n",
              "// limitations under the License.\n",
              "\n",
              "/**\n",
              " * @fileoverview Helpers for google.colab Python module.\n",
              " */\n",
              "(function(scope) {\n",
              "function span(text, styleAttributes = {}) {\n",
              "  const element = document.createElement('span');\n",
              "  element.textContent = text;\n",
              "  for (const key of Object.keys(styleAttributes)) {\n",
              "    element.style[key] = styleAttributes[key];\n",
              "  }\n",
              "  return element;\n",
              "}\n",
              "\n",
              "// Max number of bytes which will be uploaded at a time.\n",
              "const MAX_PAYLOAD_SIZE = 100 * 1024;\n",
              "\n",
              "function _uploadFiles(inputId, outputId) {\n",
              "  const steps = uploadFilesStep(inputId, outputId);\n",
              "  const outputElement = document.getElementById(outputId);\n",
              "  // Cache steps on the outputElement to make it available for the next call\n",
              "  // to uploadFilesContinue from Python.\n",
              "  outputElement.steps = steps;\n",
              "\n",
              "  return _uploadFilesContinue(outputId);\n",
              "}\n",
              "\n",
              "// This is roughly an async generator (not supported in the browser yet),\n",
              "// where there are multiple asynchronous steps and the Python side is going\n",
              "// to poll for completion of each step.\n",
              "// This uses a Promise to block the python side on completion of each step,\n",
              "// then passes the result of the previous step as the input to the next step.\n",
              "function _uploadFilesContinue(outputId) {\n",
              "  const outputElement = document.getElementById(outputId);\n",
              "  const steps = outputElement.steps;\n",
              "\n",
              "  const next = steps.next(outputElement.lastPromiseValue);\n",
              "  return Promise.resolve(next.value.promise).then((value) => {\n",
              "    // Cache the last promise value to make it available to the next\n",
              "    // step of the generator.\n",
              "    outputElement.lastPromiseValue = value;\n",
              "    return next.value.response;\n",
              "  });\n",
              "}\n",
              "\n",
              "/**\n",
              " * Generator function which is called between each async step of the upload\n",
              " * process.\n",
              " * @param {string} inputId Element ID of the input file picker element.\n",
              " * @param {string} outputId Element ID of the output display.\n",
              " * @return {!Iterable<!Object>} Iterable of next steps.\n",
              " */\n",
              "function* uploadFilesStep(inputId, outputId) {\n",
              "  const inputElement = document.getElementById(inputId);\n",
              "  inputElement.disabled = false;\n",
              "\n",
              "  const outputElement = document.getElementById(outputId);\n",
              "  outputElement.innerHTML = '';\n",
              "\n",
              "  const pickedPromise = new Promise((resolve) => {\n",
              "    inputElement.addEventListener('change', (e) => {\n",
              "      resolve(e.target.files);\n",
              "    });\n",
              "  });\n",
              "\n",
              "  const cancel = document.createElement('button');\n",
              "  inputElement.parentElement.appendChild(cancel);\n",
              "  cancel.textContent = 'Cancel upload';\n",
              "  const cancelPromise = new Promise((resolve) => {\n",
              "    cancel.onclick = () => {\n",
              "      resolve(null);\n",
              "    };\n",
              "  });\n",
              "\n",
              "  // Wait for the user to pick the files.\n",
              "  const files = yield {\n",
              "    promise: Promise.race([pickedPromise, cancelPromise]),\n",
              "    response: {\n",
              "      action: 'starting',\n",
              "    }\n",
              "  };\n",
              "\n",
              "  cancel.remove();\n",
              "\n",
              "  // Disable the input element since further picks are not allowed.\n",
              "  inputElement.disabled = true;\n",
              "\n",
              "  if (!files) {\n",
              "    return {\n",
              "      response: {\n",
              "        action: 'complete',\n",
              "      }\n",
              "    };\n",
              "  }\n",
              "\n",
              "  for (const file of files) {\n",
              "    const li = document.createElement('li');\n",
              "    li.append(span(file.name, {fontWeight: 'bold'}));\n",
              "    li.append(span(\n",
              "        `(${file.type || 'n/a'}) - ${file.size} bytes, ` +\n",
              "        `last modified: ${\n",
              "            file.lastModifiedDate ? file.lastModifiedDate.toLocaleDateString() :\n",
              "                                    'n/a'} - `));\n",
              "    const percent = span('0% done');\n",
              "    li.appendChild(percent);\n",
              "\n",
              "    outputElement.appendChild(li);\n",
              "\n",
              "    const fileDataPromise = new Promise((resolve) => {\n",
              "      const reader = new FileReader();\n",
              "      reader.onload = (e) => {\n",
              "        resolve(e.target.result);\n",
              "      };\n",
              "      reader.readAsArrayBuffer(file);\n",
              "    });\n",
              "    // Wait for the data to be ready.\n",
              "    let fileData = yield {\n",
              "      promise: fileDataPromise,\n",
              "      response: {\n",
              "        action: 'continue',\n",
              "      }\n",
              "    };\n",
              "\n",
              "    // Use a chunked sending to avoid message size limits. See b/62115660.\n",
              "    let position = 0;\n",
              "    do {\n",
              "      const length = Math.min(fileData.byteLength - position, MAX_PAYLOAD_SIZE);\n",
              "      const chunk = new Uint8Array(fileData, position, length);\n",
              "      position += length;\n",
              "\n",
              "      const base64 = btoa(String.fromCharCode.apply(null, chunk));\n",
              "      yield {\n",
              "        response: {\n",
              "          action: 'append',\n",
              "          file: file.name,\n",
              "          data: base64,\n",
              "        },\n",
              "      };\n",
              "\n",
              "      let percentDone = fileData.byteLength === 0 ?\n",
              "          100 :\n",
              "          Math.round((position / fileData.byteLength) * 100);\n",
              "      percent.textContent = `${percentDone}% done`;\n",
              "\n",
              "    } while (position < fileData.byteLength);\n",
              "  }\n",
              "\n",
              "  // All done.\n",
              "  yield {\n",
              "    response: {\n",
              "      action: 'complete',\n",
              "    }\n",
              "  };\n",
              "}\n",
              "\n",
              "scope.google = scope.google || {};\n",
              "scope.google.colab = scope.google.colab || {};\n",
              "scope.google.colab._files = {\n",
              "  _uploadFiles,\n",
              "  _uploadFilesContinue,\n",
              "};\n",
              "})(self);\n",
              "</script> "
            ]
          },
          "metadata": {}
        }
      ],
      "source": [
        "from google.colab import files\n",
        "uploaded = files.upload()"
      ]
    },
    {
      "cell_type": "code",
      "source": [
        "import pandas as pd\n",
        "import numpy as np\n",
        "import matplotlib.pyplot as plt\n",
        "\n",
        "csv_file_path = '/content/job_postings.csv'\n",
        "job_postings_df = pd.read_csv(csv_file_path)"
      ],
      "metadata": {
        "id": "44XQRQ6wqmww"
      },
      "execution_count": 36,
      "outputs": []
    },
    {
      "cell_type": "markdown",
      "source": [
        "**Project Plan:** As mentioned above, our dataset includes a high volune of observations on individual LinkedIn job post listings that appeaared on the LinkedIn website over a two day period in 2023. Our team has chosen this dataset because the dataset is quite robust and the creater did significant due dilligence in gathering the data for each observation. Our first question we hope to answer is the how the relationship appears between jobs that are in person and remote. The dataset contains a variable that already categorizes each job as in person or remote. Through filtering on this variable, we can find material and interesting differences based on relevant variables. Our second question, or really set of questions, includes those such as \"What industries have the highest and lowest salaries and benefits?\", \"What are most lucrative individual job titles regardless of industry?\", and \"Which geographic job locations, states and cities, have the highest and lowest salaries and benefits?\""
      ],
      "metadata": {
        "id": "tzQxi-bx9DAM"
      }
    },
    {
      "cell_type": "code",
      "source": [
        "job_postings_df.dtypes"
      ],
      "metadata": {
        "colab": {
          "base_uri": "https://localhost:8080/"
        },
        "id": "GJJBitxKqq1Y",
        "outputId": "a2407fda-d8d9-433a-af11-a9cbc4764f75"
      },
      "execution_count": null,
      "outputs": [
        {
          "output_type": "execute_result",
          "data": {
            "text/plain": [
              "job_id                          int64\n",
              "company_id                    float64\n",
              "title                          object\n",
              "description                    object\n",
              "max_salary                    float64\n",
              "med_salary                    float64\n",
              "min_salary                    float64\n",
              "pay_period                     object\n",
              "formatted_work_type            object\n",
              "location                       object\n",
              "applies                       float64\n",
              "original_listed_time          float64\n",
              "remote_allowed                float64\n",
              "views                         float64\n",
              "job_posting_url                object\n",
              "application_url                object\n",
              "application_type               object\n",
              "expiry                        float64\n",
              "closed_time                   float64\n",
              "formatted_experience_level     object\n",
              "skills_desc                    object\n",
              "listed_time                   float64\n",
              "posting_domain                 object\n",
              "sponsored                       int64\n",
              "work_type                      object\n",
              "currency                       object\n",
              "compensation_type              object\n",
              "dtype: object"
            ]
          },
          "metadata": {},
          "execution_count": 8
        }
      ]
    },
    {
      "cell_type": "code",
      "source": [
        "job_postings_df = job_postings_df[job_postings_df['compensation_type'].notna()]\n",
        "#Rows that do not have a compensation type are removed here using .notna()\n",
        "job_postings_df['med_salary'].replace('', np.nan, inplace=True)\n",
        "job_postings_df = job_postings_df.dropna(subset=['med_salary'])"
      ],
      "metadata": {
        "id": "Elmnn_Rcsp11"
      },
      "execution_count": null,
      "outputs": []
    },
    {
      "cell_type": "markdown",
      "source": [
        "Our first step of the coding portion of the project was to ensure that all the job post observations we were using had a compensation value included. When looking at the dataset, we have noticed that there were many job postings that did not include a compensation value. So, in order to get rid of these rows without a compensation type, we've added a .na() function. This is also done with med_salary, for the same reason of eliminating any rows of data without a median salary provided."
      ],
      "metadata": {
        "id": "eErx3gy79NAi"
      }
    },
    {
      "cell_type": "code",
      "source": [
        "#Any salary that is based off of an hourly basis is adjusted to a yearly salary, by multiplying by 40 since that is the American national standard for weekly hours worked.\n",
        "job_postings_df['max_salary'] = job_postings_df.apply(lambda row: row['max_salary'] * 40 * 52 if row['pay_period'] == 'Hourly' else row['max_salary'], axis=1)\n",
        "job_postings_df['med_salary'] = job_postings_df.apply(lambda row: row['med_salary'] * 40 * 52 if row['pay_period'] == 'Hourly' else row['med_salary'], axis=1)\n",
        "job_postings_df['min_salary'] = job_postings_df.apply(lambda row: row['min_salary'] * 40 * 52 if row['pay_period'] == 'Hourly' else row['min_salary'], axis=1)\n",
        "job_postings_df['pay_period'] = 'Yearly'  # Update the pay period to 'Yearly'"
      ],
      "metadata": {
        "id": "6wnIOdhqqv63"
      },
      "execution_count": null,
      "outputs": []
    },
    {
      "cell_type": "markdown",
      "source": [
        "After removing the rows with no compensation type, we see that there are two types of compensation wages left: hourly, and yearly. It is much more organized to keep just one unit for the salary, so we used yearly. This is done by multiplying any salary that has an hourly wage by 40 since that is the American standard of hours worked per week, and then multiplied by 52 since there are 52 weeks in a year."
      ],
      "metadata": {
        "id": "yHRSTwSE9gQ-"
      }
    },
    {
      "cell_type": "code",
      "source": [
        "#Fill non-remote workers with a value of 0\n",
        "job_postings_df['remote_allowed'] = job_postings_df['remote_allowed'].fillna(0)\n",
        "\n",
        "#Calculate summary statistics for remote and non-remote workers based on yearly median salary\n",
        "remote_workers = job_postings_df[job_postings_df['remote_allowed'] == 1]\n",
        "non_remote_workers = job_postings_df[job_postings_df['remote_allowed'] == 0]"
      ],
      "metadata": {
        "id": "k-YNMLJUqwnJ"
      },
      "execution_count": null,
      "outputs": []
    },
    {
      "cell_type": "markdown",
      "source": [
        "From the dataframe, we see that remote workers are labelled '1' if they are remote in the 'remote_allowed' variable, but if they are in person then they do not have a variable. We labelled these in-person workers as '0' by simply using the .fillna(0) function."
      ],
      "metadata": {
        "id": "HWwKMjS39kPi"
      }
    },
    {
      "cell_type": "code",
      "source": [
        "# Summary statistics for remote workers\n",
        "summary_remote = remote_workers['med_salary'].describe()\n",
        "\n",
        "# Summary statistics for non-remote workers\n",
        "summary_non_remote = non_remote_workers['med_salary'].describe()\n",
        "\n",
        "# Print the summary statistics\n",
        "print(\"Summary Statistics for Remote Workers:\")\n",
        "print(summary_remote)\n",
        "\n",
        "print(\"\\nSummary Statistics for Non-Remote Workers:\")\n",
        "print(summary_non_remote)"
      ],
      "metadata": {
        "colab": {
          "base_uri": "https://localhost:8080/"
        },
        "id": "JM8MiW-9q2LD",
        "outputId": "e770e542-d987-4d0a-f858-707013889b8f"
      },
      "execution_count": null,
      "outputs": [
        {
          "output_type": "stream",
          "name": "stdout",
          "text": [
            "Summary Statistics for Remote Workers:\n",
            "count       117.000000\n",
            "mean      93813.643077\n",
            "std      161219.557211\n",
            "min          10.000000\n",
            "25%          22.000000\n",
            "50%       42000.000000\n",
            "75%      150000.000000\n",
            "max      800000.000000\n",
            "Name: med_salary, dtype: float64\n",
            "\n",
            "Summary Statistics for Non-Remote Workers:\n",
            "count       864.000000\n",
            "mean      34038.521458\n",
            "std       77755.120407\n",
            "min          10.000000\n",
            "25%          18.000000\n",
            "50%          24.650000\n",
            "75%       45211.750000\n",
            "max      998426.000000\n",
            "Name: med_salary, dtype: float64\n"
          ]
        }
      ]
    },
    {
      "cell_type": "markdown",
      "source": [
        "When comparing the two types of workers by their summary statistics, we can see that the remote workers have a significantly higher average median salary (93,813.64 USD) compared to non-remote workers (34,038.52 USD). Both categories also have relatively high standard deviations, which indicates a wide of variation in salaries, but remote workers have a higher standard deviation. We can already predict both will be skewed right in a graph, since the means for both types of workers are greater than their medians, which are seen from the 50th percentile."
      ],
      "metadata": {
        "id": "WEHPyU4u-VRB"
      }
    },
    {
      "cell_type": "code",
      "source": [
        "job_postings_df['med_salary'].plot.hist(bins=50, color='blue', alpha=0.7, edgecolor='black', title='Distribution of Median Yearly Salaries')\n",
        "plt.xlabel('Median Yearly Salary')\n",
        "plt.ylabel('Frequency')\n",
        "plt.show()"
      ],
      "metadata": {
        "colab": {
          "base_uri": "https://localhost:8080/",
          "height": 472
        },
        "id": "GkyzYHzdsbsi",
        "outputId": "c6ae0ff5-1c12-4720-9481-4b149be603bd"
      },
      "execution_count": null,
      "outputs": [
        {
          "output_type": "display_data",
          "data": {
            "text/plain": [
              "<Figure size 640x480 with 1 Axes>"
            ],
            "image/png": "[encoded data removed]"
          },
          "metadata": {}
        }
      ]
    },
    {
      "cell_type": "markdown",
      "source": [
        "Attached above is a histogram which shows the distribution of median yearly salaries. It is orginally skewed heavily to the right, and this is because a vast majority of salaries are less than the 100,000 range, with far outliers reaching $1 million."
      ],
      "metadata": {
        "id": "kEKjM_UD_U7W"
      }
    },
    {
      "cell_type": "code",
      "source": [
        "job_postings_df['med_salary'] = np.log1p(job_postings_df['med_salary'])\n",
        "job_postings_df['med_salary'].plot.hist(bins=50, color='blue', alpha=0.7, edgecolor='black', title='Distribution of Median Yearly Salaries (Log-Transformed)')\n",
        "\n",
        "# Set labels and title\n",
        "plt.xlabel('Log(Median Yearly Salary)')\n",
        "plt.ylabel('Frequency')\n",
        "plt.show()"
      ],
      "metadata": {
        "colab": {
          "base_uri": "https://localhost:8080/",
          "height": 472
        },
        "id": "nN4Sp-BftaLb",
        "outputId": "8117f7b9-f498-4e3d-81dc-b1abff361d0a"
      },
      "execution_count": null,
      "outputs": [
        {
          "output_type": "display_data",
          "data": {
            "text/plain": [
              "<Figure size 640x480 with 1 Axes>"
            ],
            "image/png": "[encoded data removed]"
          },
          "metadata": {}
        }
      ]
    },
    {
      "cell_type": "markdown",
      "source": [
        "To fix the skew we have applied a logarithmic transformation, specifically by taking in the logarithmic value each of the median salaries, which fixes the skew much better makes the histogram look much more symmetrical."
      ],
      "metadata": {
        "id": "tCEuYLP4_ZPc"
      }
    },
    {
      "cell_type": "code",
      "source": [
        "job_postings_df = job_postings_df.dropna(subset=['compensation_type', 'med_salary'])\n",
        "job_postings_df.title.value_counts().head(200).to_frame()"
      ],
      "metadata": {
        "colab": {
          "base_uri": "https://localhost:8080/",
          "height": 687
        },
        "id": "LfEQSf484IO7",
        "outputId": "25096d58-f4cb-46ec-a846-a8766868b9ec"
      },
      "execution_count": null,
      "outputs": [
        {
          "output_type": "execute_result",
          "data": {
            "text/plain": [
              "                                                    title\n",
              "Sales Director [Owner/Operator]                        57\n",
              "Search Engine Analyst                                  17\n",
              "Assistant Store Manager (ASM)                          12\n",
              "Investment Analyst                                     11\n",
              "Package Handler (Warehouse like)                        9\n",
              "...                                                   ...\n",
              "Guest Services Assistant/Health Screener; 0.5 F...      1\n",
              "Delivery Driver                                         1\n",
              "Route Operations Supervisor                             1\n",
              "Hourly Restaurant Manager                               1\n",
              "Technical Security and Signals Countermeasures ...      1\n",
              "\n",
              "[200 rows x 1 columns]"
            ],
            "text/html": [
              "\n",
              "  <div id=\"df-9c875bb4-57a8-4ce5-8346-1ce75be5b79b\" class=\"colab-df-container\">\n",
              "    <div>\n",
              "<style scoped>\n",
              "    .dataframe tbody tr th:only-of-type {\n",
              "        vertical-align: middle;\n",
              "    }\n",
              "\n",
              "    .dataframe tbody tr th {\n",
              "        vertical-align: top;\n",
              "    }\n",
              "\n",
              "    .dataframe thead th {\n",
              "        text-align: right;\n",
              "    }\n",
              "</style>\n",
              "<table border=\"1\" class=\"dataframe\">\n",
              "  <thead>\n",
              "    <tr style=\"text-align: right;\">\n",
              "      <th></th>\n",
              "      <th>title</th>\n",
              "    </tr>\n",
              "  </thead>\n",
              "  <tbody>\n",
              "    <tr>\n",
              "      <th>Sales Director [Owner/Operator]</th>\n",
              "      <td>57</td>\n",
              "    </tr>\n",
              "    <tr>\n",
              "      <th>Search Engine Analyst</th>\n",
              "      <td>17</td>\n",
              "    </tr>\n",
              "    <tr>\n",
              "      <th>Assistant Store Manager (ASM)</th>\n",
              "      <td>12</td>\n",
              "    </tr>\n",
              "    <tr>\n",
              "      <th>Investment Analyst</th>\n",
              "      <td>11</td>\n",
              "    </tr>\n",
              "    <tr>\n",
              "      <th>Package Handler (Warehouse like)</th>\n",
              "      <td>9</td>\n",
              "    </tr>\n",
              "    <tr>\n",
              "      <th>...</th>\n",
              "      <td>...</td>\n",
              "    </tr>\n",
              "    <tr>\n",
              "      <th>Guest Services Assistant/Health Screener; 0.5 FTE; Day Shift</th>\n",
              "      <td>1</td>\n",
              "    </tr>\n",
              "    <tr>\n",
              "      <th>Delivery Driver</th>\n",
              "      <td>1</td>\n",
              "    </tr>\n",
              "    <tr>\n",
              "      <th>Route Operations Supervisor</th>\n",
              "      <td>1</td>\n",
              "    </tr>\n",
              "    <tr>\n",
              "      <th>Hourly Restaurant Manager</th>\n",
              "      <td>1</td>\n",
              "    </tr>\n",
              "    <tr>\n",
              "      <th>Technical Security and Signals Countermeasures Practitioner</th>\n",
              "      <td>1</td>\n",
              "    </tr>\n",
              "  </tbody>\n",
              "</table>\n",
              "<p>200 rows × 1 columns</p>\n",
              "</div>\n",
              "    <div class=\"colab-df-buttons\">\n",
              "\n",
              "  <div class=\"colab-df-container\">\n",
              "    <button class=\"colab-df-convert\" onclick=\"convertToInteractive('df-9c875bb4-57a8-4ce5-8346-1ce75be5b79b')\"\n",
              "            title=\"Convert this dataframe to an interactive table.\"\n",
              "            style=\"display:none;\">\n",
              "\n",
              "  <svg xmlns=\"http://www.w3.org/2000/svg\" height=\"24px\" viewBox=\"0 -960 960 960\">\n",
              "    <path d=\"M120-120v-720h720v720H120Zm60-500h600v-160H180v160Zm220 220h160v-160H400v160Zm0 220h160v-160H400v160ZM180-400h160v-160H180v160Zm440 0h160v-160H620v160ZM180-180h160v-160H180v160Zm440 0h160v-160H620v160Z\"/>\n",
              "  </svg>\n",
              "    </button>\n",
              "\n",
              "  <style>\n",
              "    .colab-df-container {\n",
              "      display:flex;\n",
              "      gap: 12px;\n",
              "    }\n",
              "\n",
              "    .colab-df-convert {\n",
              "      background-color: #E8F0FE;\n",
              "      border: none;\n",
              "      border-radius: 50%;\n",
              "      cursor: pointer;\n",
              "      display: none;\n",
              "      fill: #1967D2;\n",
              "      height: 32px;\n",
              "      padding: 0 0 0 0;\n",
              "      width: 32px;\n",
              "    }\n",
              "\n",
              "    .colab-df-convert:hover {\n",
              "      background-color: #E2EBFA;\n",
              "      box-shadow: 0px 1px 2px rgba(60, 64, 67, 0.3), 0px 1px 3px 1px rgba(60, 64, 67, 0.15);\n",
              "      fill: #174EA6;\n",
              "    }\n",
              "\n",
              "    .colab-df-buttons div {\n",
              "      margin-bottom: 4px;\n",
              "    }\n",
              "\n",
              "    [theme=dark] .colab-df-convert {\n",
              "      background-color: #3B4455;\n",
              "      fill: #D2E3FC;\n",
              "    }\n",
              "\n",
              "    [theme=dark] .colab-df-convert:hover {\n",
              "      background-color: #434B5C;\n",
              "      box-shadow: 0px 1px 3px 1px rgba(0, 0, 0, 0.15);\n",
              "      filter: drop-shadow(0px 1px 2px rgba(0, 0, 0, 0.3));\n",
              "      fill: #FFFFFF;\n",
              "    }\n",
              "  </style>\n",
              "\n",
              "    <script>\n",
              "      const buttonEl =\n",
              "        document.querySelector('#df-9c875bb4-57a8-4ce5-8346-1ce75be5b79b button.colab-df-convert');\n",
              "      buttonEl.style.display =\n",
              "        google.colab.kernel.accessAllowed ? 'block' : 'none';\n",
              "\n",
              "      async function convertToInteractive(key) {\n",
              "        const element = document.querySelector('#df-9c875bb4-57a8-4ce5-8346-1ce75be5b79b');\n",
              "        const dataTable =\n",
              "          await google.colab.kernel.invokeFunction('convertToInteractive',\n",
              "                                                    [key], {});\n",
              "        if (!dataTable) return;\n",
              "\n",
              "        const docLinkHtml = 'Like what you see? Visit the ' +\n",
              "          '<a target=\"_blank\" href=https://colab.research.google.com/notebooks/data_table.ipynb>data table notebook</a>'\n",
              "          + ' to learn more about interactive tables.';\n",
              "        element.innerHTML = '';\n",
              "        dataTable['output_type'] = 'display_data';\n",
              "        await google.colab.output.renderOutput(dataTable, element);\n",
              "        const docLink = document.createElement('div');\n",
              "        docLink.innerHTML = docLinkHtml;\n",
              "        element.appendChild(docLink);\n",
              "      }\n",
              "    </script>\n",
              "  </div>\n",
              "\n",
              "\n",
              "<div id=\"df-8314341b-519c-4ef6-9366-083ae8a568e8\">\n",
              "  <button class=\"colab-df-quickchart\" onclick=\"quickchart('df-8314341b-519c-4ef6-9366-083ae8a568e8')\"\n",
              "            title=\"Suggest charts.\"\n",
              "            style=\"display:none;\">\n",
              "\n",
              "<svg xmlns=\"http://www.w3.org/2000/svg\" height=\"24px\"viewBox=\"0 0 24 24\"\n",
              "     width=\"24px\">\n",
              "    <g>\n",
              "        <path d=\"M19 3H5c-1.1 0-2 .9-2 2v14c0 1.1.9 2 2 2h14c1.1 0 2-.9 2-2V5c0-1.1-.9-2-2-2zM9 17H7v-7h2v7zm4 0h-2V7h2v10zm4 0h-2v-4h2v4z\"/>\n",
              "    </g>\n",
              "</svg>\n",
              "  </button>\n",
              "\n",
              "<style>\n",
              "  .colab-df-quickchart {\n",
              "      --bg-color: #E8F0FE;\n",
              "      --fill-color: #1967D2;\n",
              "      --hover-bg-color: #E2EBFA;\n",
              "      --hover-fill-color: #174EA6;\n",
              "      --disabled-fill-color: #AAA;\n",
              "      --disabled-bg-color: #DDD;\n",
              "  }\n",
              "\n",
              "  [theme=dark] .colab-df-quickchart {\n",
              "      --bg-color: #3B4455;\n",
              "      --fill-color: #D2E3FC;\n",
              "      --hover-bg-color: #434B5C;\n",
              "      --hover-fill-color: #FFFFFF;\n",
              "      --disabled-bg-color: #3B4455;\n",
              "      --disabled-fill-color: #666;\n",
              "  }\n",
              "\n",
              "  .colab-df-quickchart {\n",
              "    background-color: var(--bg-color);\n",
              "    border: none;\n",
              "    border-radius: 50%;\n",
              "    cursor: pointer;\n",
              "    display: none;\n",
              "    fill: var(--fill-color);\n",
              "    height: 32px;\n",
              "    padding: 0;\n",
              "    width: 32px;\n",
              "  }\n",
              "\n",
              "  .colab-df-quickchart:hover {\n",
              "    background-color: var(--hover-bg-color);\n",
              "    box-shadow: 0 1px 2px rgba(60, 64, 67, 0.3), 0 1px 3px 1px rgba(60, 64, 67, 0.15);\n",
              "    fill: var(--button-hover-fill-color);\n",
              "  }\n",
              "\n",
              "  .colab-df-quickchart-complete:disabled,\n",
              "  .colab-df-quickchart-complete:disabled:hover {\n",
              "    background-color: var(--disabled-bg-color);\n",
              "    fill: var(--disabled-fill-color);\n",
              "    box-shadow: none;\n",
              "  }\n",
              "\n",
              "  .colab-df-spinner {\n",
              "    border: 2px solid var(--fill-color);\n",
              "    border-color: transparent;\n",
              "    border-bottom-color: var(--fill-color);\n",
              "    animation:\n",
              "      spin 1s steps(1) infinite;\n",
              "  }\n",
              "\n",
              "  @keyframes spin {\n",
              "    0% {\n",
              "      border-color: transparent;\n",
              "      border-bottom-color: var(--fill-color);\n",
              "      border-left-color: var(--fill-color);\n",
              "    }\n",
              "    20% {\n",
              "      border-color: transparent;\n",
              "      border-left-color: var(--fill-color);\n",
              "      border-top-color: var(--fill-color);\n",
              "    }\n",
              "    30% {\n",
              "      border-color: transparent;\n",
              "      border-left-color: var(--fill-color);\n",
              "      border-top-color: var(--fill-color);\n",
              "      border-right-color: var(--fill-color);\n",
              "    }\n",
              "    40% {\n",
              "      border-color: transparent;\n",
              "      border-right-color: var(--fill-color);\n",
              "      border-top-color: var(--fill-color);\n",
              "    }\n",
              "    60% {\n",
              "      border-color: transparent;\n",
              "      border-right-color: var(--fill-color);\n",
              "    }\n",
              "    80% {\n",
              "      border-color: transparent;\n",
              "      border-right-color: var(--fill-color);\n",
              "      border-bottom-color: var(--fill-color);\n",
              "    }\n",
              "    90% {\n",
              "      border-color: transparent;\n",
              "      border-bottom-color: var(--fill-color);\n",
              "    }\n",
              "  }\n",
              "</style>\n",
              "\n",
              "  <script>\n",
              "    async function quickchart(key) {\n",
              "      const quickchartButtonEl =\n",
              "        document.querySelector('#' + key + ' button');\n",
              "      quickchartButtonEl.disabled = true;  // To prevent multiple clicks.\n",
              "      quickchartButtonEl.classList.add('colab-df-spinner');\n",
              "      try {\n",
              "        const charts = await google.colab.kernel.invokeFunction(\n",
              "            'suggestCharts', [key], {});\n",
              "      } catch (error) {\n",
              "        console.error('Error during call to suggestCharts:', error);\n",
              "      }\n",
              "      quickchartButtonEl.classList.remove('colab-df-spinner');\n",
              "      quickchartButtonEl.classList.add('colab-df-quickchart-complete');\n",
              "    }\n",
              "    (() => {\n",
              "      let quickchartButtonEl =\n",
              "        document.querySelector('#df-8314341b-519c-4ef6-9366-083ae8a568e8 button');\n",
              "      quickchartButtonEl.style.display =\n",
              "        google.colab.kernel.accessAllowed ? 'block' : 'none';\n",
              "    })();\n",
              "  </script>\n",
              "</div>\n",
              "    </div>\n",
              "  </div>\n"
            ]
          },
          "metadata": {},
          "execution_count": 26
        }
      ]
    },
    {
      "cell_type": "code",
      "source": [
        "# Define the mapping from job titles to industries\n",
        "job_title_to_industry_mapping = {\n",
        "    \"Warehouse Order Selector\": \"Warehouse\",\n",
        "    \"Package Handler (Warehouse like)\": \"Warehouse\",\n",
        "    \"Warehouse Associate\": \"Warehouse\",\n",
        "    \"Warehouse Worker - SAS Safety Corp.\": \"Warehouse\",\n",
        "    \"Equipment Technician\": \"Technician\",\n",
        "    \"Field Service Technician\": \"Technician\",\n",
        "    \"Pest Control Technician\": \"Technician\",\n",
        "    \"Central Services Technician\": \"Technician\"\n",
        "}\n",
        "\n",
        "# Use the .replace() method to create the 'industries' column\n",
        "job_postings_df['industries'] = job_postings_df['title'].replace(job_title_to_industry_mapping)\n"
      ],
      "metadata": {
        "id": "uAlr2INd4UlH"
      },
      "execution_count": null,
      "outputs": []
    },
    {
      "cell_type": "markdown",
      "source": [
        "Here a map called 'Industries' is created, where eight occupations are organized into a dictionary based on what type of job they are, and the two types in this example are 'Warehouse' and 'Technician'."
      ],
      "metadata": {
        "id": "A_ixk1UU_wAs"
      }
    },
    {
      "cell_type": "code",
      "source": [
        "selected_industries = [\"Warehouse\", \"Technician\"]\n",
        "filtered_df = job_postings_df[job_postings_df['industries'].isin(selected_industries)].copy()\n",
        "\n",
        "# Converted the logarithmic values back to their actual yearly salaries using np.exp\n",
        "filtered_df['med_salary'] = np.exp(filtered_df['med_salary'])\n",
        "\n",
        "# Summary statistics for \"med_salary\" for each industry\n",
        "summary_statistics = filtered_df.groupby('industries')['med_salary'].describe()\n",
        "\n",
        "# Print the summary statistics\n",
        "print(summary_statistics)\n",
        "\n",
        "\n"
      ],
      "metadata": {
        "colab": {
          "base_uri": "https://localhost:8080/"
        },
        "id": "oxLfaR0h6IFr",
        "outputId": "7669b48f-46c9-4089-a436-7796f0b12a9c"
      },
      "execution_count": null,
      "outputs": [
        {
          "output_type": "stream",
          "name": "stdout",
          "text": [
            "            count      mean       std       min       25%       50%  \\\n",
            "industries                                                            \n",
            "Technician   11.0  6.965934  3.949204  4.044522  4.068053  4.218876   \n",
            "Warehouse    16.0  4.957634  2.786813  3.772589  3.833213  3.976622   \n",
            "\n",
            "                  75%        max  \n",
            "industries                        \n",
            "Technician  11.657283  12.225257  \n",
            "Warehouse    4.041301  12.314487  \n"
          ]
        }
      ]
    },
    {
      "cell_type": "markdown",
      "source": [
        "We create the summary statistics between technicians and warehouse workers, and the first thing to do is to revert the salaries back to their original values from the logarithmic values, by using the np.exp() function. As seen from the summary statistic, we can see the \"Technician\" industry generally offers higher median salaries, with an average around 21,378 USD, but with significant variation, which is evidenced by the high standard deviation.\n",
        "The \"Warehouse\" industry has a lower average median salary of around 8,391 USD, and has a lower, but still considerable variation in salary. In both industries, there is a wide range of median salaries, with the maximum salaries being significantly higher than the average. This suggests that some job postings within these industries offer very high salaries, while others offer lower salaries."
      ],
      "metadata": {
        "id": "7KPNYOa_7j6g"
      }
    }
  ]
}